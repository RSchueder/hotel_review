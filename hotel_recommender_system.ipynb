{
 "cells": [
  {
   "cell_type": "markdown",
   "metadata": {},
   "source": [
    "Try to make a recommender system"
   ]
  },
  {
   "cell_type": "markdown",
   "metadata": {},
   "source": [
    "https://towardsdatascience.com/intro-to-recommender-system-collaborative-filtering-64a238194a26 <br>\n",
    "https://towardsdatascience.com/how-to-build-from-scratch-a-content-based-movie-recommender-with-natural-language-processing-25ad400eb243"
   ]
  },
  {
   "cell_type": "code",
   "execution_count": 2,
   "metadata": {},
   "outputs": [
    {
     "name": "stderr",
     "output_type": "stream",
     "text": [
      "[nltk_data] Downloading package stopwords to /home/rudy/nltk_data...\n",
      "[nltk_data]   Package stopwords is already up-to-date!\n",
      "[nltk_data] Downloading package wordnet to /home/rudy/nltk_data...\n",
      "[nltk_data]   Package wordnet is already up-to-date!\n"
     ]
    }
   ],
   "source": [
    "import pandas as pd\n",
    "import numpy as np\n",
    "import nltk\n",
    "nltk.download('stopwords')\n",
    "from nltk.corpus import stopwords\n",
    "nltk.download('wordnet') \n",
    "from sklearn.feature_extraction.text import CountVectorizer\n",
    "from sklearn.feature_extraction.text import TfidfTransformer\n",
    "from sklearn.metrics.pairwise import cosine_similarity\n",
    "import matplotlib.pyplot as plt\n",
    "\n",
    "stop_words = set(stopwords.words(\"english\"))\n",
    "new_words = ['go', 'nothing']\n",
    "stop_words = stop_words.union(new_words, stop_words)\n",
    "\n",
    "dataset = pd.read_csv('./Hotel_Reviews.csv')\n",
    "summ = pd.read_csv('./per_review_summary.csv')\n",
    "reviews = pd.read_csv('./hotel_review_summary.csv')"
   ]
  },
  {
   "cell_type": "markdown",
   "metadata": {},
   "source": [
    "Ideally what we would do is take all of a users reviews, and find hotels that have summaries that are similar to the summaries of the users. However, we do not have reviews  grouped by user. Instead what we can do is pretend that a hotel is a person, and find the hotel that is most similar to that hotel (Which we treat as a proxy for the person's taste)"
   ]
  },
  {
   "cell_type": "code",
   "execution_count": 4,
   "metadata": {},
   "outputs": [],
   "source": [
    "id = 8\n",
    "hotel_id = summ['Hotel_Name'].unique()[id]\n",
    "user = summ[summ['Hotel_Name'] == hotel_id][['Positive_Review_norm', 'Negative_Review_norm']]"
   ]
  },
  {
   "cell_type": "code",
   "execution_count": 5,
   "metadata": {},
   "outputs": [],
   "source": [
    "user_sum = summ[summ['Hotel_Name'] == hotel_id][['Positive_summary']]\n",
    "user_sum = [ii for ii in user_sum.dropna()['Positive_summary']]\n",
    "user_sum = ', '.join(user_sum).replace(',','')\n",
    "user_sum = [user_sum]\n"
   ]
  },
  {
   "cell_type": "code",
   "execution_count": 6,
   "metadata": {},
   "outputs": [
    {
     "data": {
      "text/plain": [
       "['pleasant area bar nice room incredible made warmth treated really thunder storm insulated conveniently covent candle dream petal rose electric terrific bar cocktail real menu pleasing concerned genuinely switched wonderful commendation nephew army feed deserves throughout level comfort high service organising memorable personally one treat strand thames covent luxury equipped eneko dined hotel pricy doubt getaway perfect covent show stylish celebrating service smart sightseeing appreciated steam gorgeous sink welcoming super gluten group mumma daughter wardour advisory fresh attendant flower tray newspaper greeting fluffy well explained friendly great location staff stylish served despite dinner busy novalty martket outstanding cart surround benedict awesome egg pool amazing charlie celebratory factory beat thoroughly dream cooky box paper cake celebration regard champagne husband cake carering want come feel make upscale favorite lively uk delivered doorman champagne treat surprise cake toddler cocktail swimming pool area perfection absolute trained attentive better charlie factory delightful afternoon chocolate responded promptly prompt prior covent specific agostinho cotswold theater play afternoon loved tea location orchid plant noon flower presented pleasant open quiet area bar regular polite warm feel stayed equipment mile provide child went freindlier ranged dept remained land kindly porter mark departure charming laid duty beyond daughter taken wonka willy defiantly south covent aleady atmoshpere touch aldwych corteous fantastic buzz remembered hassle resident despite centre fantastic size london ideally covent placed occasion show base accommodation class visit found lyceum lavender cloud cant lovely ziplock chlorine turndown impeccable appeared theatre great location transported stepped royalty treated ambiance fabulously reasonably sized trouble much building bedroom old lovely comfortable viewnof magical teenager seat bridge indigo excellent food lovely service looked atmosphere well lovely nice bar excellent nice great location houskeeping concierge professional desk front name rewarded wrote letter favorite location covent theatre garden around great unobtrusive equally delightful yet everyone super extra comfy helpful bed pleasurable doorstep based truly heart trouble much lovely nothing excellent soundbox olufsen bang room location comfy bed attentive friendly staff fantastic staff name kid touch new check brilliant fantastic facility great location position style helpful friendly good bar control lighting con air good flower lobby beautiful amazing hotel spot spa pool great location heart luxury london really good location delicious concierge helpful breakfast atmosphere service staff amazimg honest hospitality warm definitely lovely comfortable bed room restuarants facility staff soundproofing excellent great location lounge wonderful area th visit hotel great location job great good staff worth experience expensive well excellent needed everything service excellent charlie buzz cocktail try lobby everybody friendly albeit excellent wine spa side cleanness bar staff loved checkin upgraded pool restaurant bar service excellent bar great location fixture premium fitting channel tv every thing good excellent helpful friendly hotel location helpful friendly staff bar nice friendly staff location staff friendly great location staff excellent location couldnt trouble amenity superb lobby love brilliant lobby bar helpful perfect helpful friendly location staff bar watch sit theatre cocktail everything good breakfast amazing staff outstanding staff every spotless appointed member enjoyed amazing staff touch comfort cleanliness extra little swimming pool bathroom location massage leisure wife received pool demeanour positive attitude always helpful professional helpful staff friendly staff covent west home garden end atmosphere professional helpful great good cutomer underwater music pool really attentiveness ambience lounge lobby staff proactivity hotel staff roh visiting attentive went help']"
      ]
     },
     "execution_count": 6,
     "metadata": {},
     "output_type": "execute_result"
    }
   ],
   "source": [
    "user_sum"
   ]
  },
  {
   "cell_type": "code",
   "execution_count": 7,
   "metadata": {},
   "outputs": [],
   "source": [
    "count_user = CountVectorizer(stop_words = stop_words, max_features = 1000, ngram_range = (1,3))\n",
    "count_matrix_user = count_user.fit_transform(user_sum)\n",
    "max_words = count_matrix_user.shape[1]\n",
    "\n",
    "count_all = CountVectorizer(max_df = 0.8, stop_words = stop_words, max_features = max_words, ngram_range = (1,3))\n",
    "count_matrix_all = count_all.fit_transform(reviews['Positive_summary'])\n",
    "# generating the cosine similarity matrix\n",
    "cosine_sim = cosine_similarity(count_matrix_user, count_matrix_all)"
   ]
  },
  {
   "cell_type": "code",
   "execution_count": 8,
   "metadata": {},
   "outputs": [
    {
     "data": {
      "text/plain": [
       "<matplotlib.collections.PolyCollection at 0x7f109afe6ba8>"
      ]
     },
     "execution_count": 8,
     "metadata": {},
     "output_type": "execute_result"
    },
    {
     "data": {
      "image/png": "[encoded data removed]",
      "text/plain": [
       "<Figure size 432x288 with 1 Axes>"
      ]
     },
     "metadata": {
      "needs_background": "light"
     },
     "output_type": "display_data"
    }
   ],
   "source": [
    "plt.pcolor(cosine_sim)"
   ]
  },
  {
   "cell_type": "markdown",
   "metadata": {},
   "source": [
    "Now we see which hotel is recommended"
   ]
  },
  {
   "cell_type": "code",
   "execution_count": 9,
   "metadata": {},
   "outputs": [
    {
     "name": "stdout",
     "output_type": "stream",
     "text": [
      "Hotel Silver 0.34735440146038704\n"
     ]
    }
   ],
   "source": [
    "print(summ['Hotel_Name'].unique()[np.argmax(cosine_sim)], np.max(cosine_sim))"
   ]
  },
  {
   "cell_type": "markdown",
   "metadata": {},
   "source": [
    "* For collaboritve filtering we need users and items. What if the **items are the keywords** that you have in your reviews, and the **users are the reviews themselves**, and the **reviews are linked to hotels**.\n"
   ]
  }
 ],
 "metadata": {
  "kernelspec": {
   "display_name": "Python 3",
   "language": "python",
   "name": "python3"
  },
  "language_info": {
   "codemirror_mode": {
    "name": "ipython",
    "version": 3
   },
   "file_extension": ".py",
   "mimetype": "text/x-python",
   "name": "python",
   "nbconvert_exporter": "python",
   "pygments_lexer": "ipython3",
   "version": "3.7.3"
  }
 },
 "nbformat": 4,
 "nbformat_minor": 2
}
